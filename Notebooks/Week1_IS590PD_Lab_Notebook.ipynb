{
 "cells": [
  {
   "cell_type": "markdown",
   "metadata": {},
   "source": [
    "## Analysis on acute lower respiratory infections and Tuberculosis "
   ]
  },
  {
   "cell_type": "markdown",
   "metadata": {},
   "source": [
    "Team: Runtime Terrors\n",
    "\n",
    "Members:    \n",
    "> Vinu Prasad Bhambore (vpb2)\n",
    "\n",
    "> Srijith Srinath (ssrina2)\n",
    "\n",
    "> Dhruman Jayesh Shah (djshah5)"
   ]
  },
  {
   "cell_type": "markdown",
   "metadata": {},
   "source": [
    "##### Notebook Update 1 - 02/14/2020"
   ]
  },
  {
   "cell_type": "markdown",
   "metadata": {},
   "source": [
    "Name of the dataset: PAHO Regional Mortality Dataset\n",
    "    \n",
    "Background: The PAHO Regional Mortality Database is an integrated database consisting of national datasets from Member States and is updated annually. The dataset includes data from 48 countries and territories.  The source of the national datasets varies by country. For some countries the national institution mandated to collect, integrate, and disseminate mortality data and information is the Ministry of Health, and for others it is the National Institute of Statistics. "
   ]
  },
  {
   "cell_type": "markdown",
   "metadata": {},
   "source": [
    "Source: WHO\n",
    "\n",
    "File Size: 221MB"
   ]
  },
  {
   "cell_type": "markdown",
   "metadata": {},
   "source": [
    "#### Importing the necessary packages"
   ]
  },
  {
   "cell_type": "code",
   "execution_count": 11,
   "metadata": {},
   "outputs": [],
   "source": [
    "import pandas as pd\n",
    "import matplotlib as plt \n",
    "import seaborn as sns "
   ]
  },
  {
   "cell_type": "markdown",
   "metadata": {},
   "source": [
    "#### Loading the Mortality data:"
   ]
  },
  {
   "cell_type": "code",
   "execution_count": 12,
   "metadata": {},
   "outputs": [],
   "source": [
    "mdata = pd.read_csv(\"Mortality_Data.csv\") #importing data"
   ]
  },
  {
   "cell_type": "markdown",
   "metadata": {},
   "source": [
    "#### Exploring the data:"
   ]
  },
  {
   "cell_type": "markdown",
   "metadata": {},
   "source": [
    "1. Identification of variables and the data types"
   ]
  },
  {
   "cell_type": "code",
   "execution_count": 22,
   "metadata": {},
   "outputs": [
    {
     "name": "stdout",
     "output_type": "stream",
     "text": [
      "Columns:\n",
      " CountryName      object\n",
      "MortalityYear     int64\n",
      "Gender           object\n",
      "AgeGroupCode      int64\n",
      "ICD10            object\n",
      "Deaths            int64\n",
      "dtype: object\n",
      "\n",
      "Shape:  (6744211, 6)\n"
     ]
    },
    {
     "data": {
      "text/html": [
       "<div>\n",
       "<style scoped>\n",
       "    .dataframe tbody tr th:only-of-type {\n",
       "        vertical-align: middle;\n",
       "    }\n",
       "\n",
       "    .dataframe tbody tr th {\n",
       "        vertical-align: top;\n",
       "    }\n",
       "\n",
       "    .dataframe thead th {\n",
       "        text-align: right;\n",
       "    }\n",
       "</style>\n",
       "<table border=\"1\" class=\"dataframe\">\n",
       "  <thead>\n",
       "    <tr style=\"text-align: right;\">\n",
       "      <th></th>\n",
       "      <th>MortalityYear</th>\n",
       "      <th>AgeGroupCode</th>\n",
       "      <th>Deaths</th>\n",
       "    </tr>\n",
       "  </thead>\n",
       "  <tbody>\n",
       "    <tr>\n",
       "      <th>count</th>\n",
       "      <td>6.744211e+06</td>\n",
       "      <td>6.744211e+06</td>\n",
       "      <td>6.744211e+06</td>\n",
       "    </tr>\n",
       "    <tr>\n",
       "      <th>mean</th>\n",
       "      <td>2.007447e+03</td>\n",
       "      <td>1.874089e+01</td>\n",
       "      <td>1.655903e+01</td>\n",
       "    </tr>\n",
       "    <tr>\n",
       "      <th>std</th>\n",
       "      <td>5.878370e+00</td>\n",
       "      <td>6.980436e+00</td>\n",
       "      <td>1.809972e+02</td>\n",
       "    </tr>\n",
       "    <tr>\n",
       "      <th>min</th>\n",
       "      <td>1.995000e+03</td>\n",
       "      <td>2.000000e+00</td>\n",
       "      <td>1.000000e+00</td>\n",
       "    </tr>\n",
       "    <tr>\n",
       "      <th>25%</th>\n",
       "      <td>2.003000e+03</td>\n",
       "      <td>1.500000e+01</td>\n",
       "      <td>1.000000e+00</td>\n",
       "    </tr>\n",
       "    <tr>\n",
       "      <th>50%</th>\n",
       "      <td>2.008000e+03</td>\n",
       "      <td>2.000000e+01</td>\n",
       "      <td>2.000000e+00</td>\n",
       "    </tr>\n",
       "    <tr>\n",
       "      <th>75%</th>\n",
       "      <td>2.012000e+03</td>\n",
       "      <td>2.400000e+01</td>\n",
       "      <td>5.000000e+00</td>\n",
       "    </tr>\n",
       "    <tr>\n",
       "      <th>max</th>\n",
       "      <td>2.018000e+03</td>\n",
       "      <td>9.900000e+01</td>\n",
       "      <td>2.558600e+04</td>\n",
       "    </tr>\n",
       "  </tbody>\n",
       "</table>\n",
       "</div>"
      ],
      "text/plain": [
       "       MortalityYear  AgeGroupCode        Deaths\n",
       "count   6.744211e+06  6.744211e+06  6.744211e+06\n",
       "mean    2.007447e+03  1.874089e+01  1.655903e+01\n",
       "std     5.878370e+00  6.980436e+00  1.809972e+02\n",
       "min     1.995000e+03  2.000000e+00  1.000000e+00\n",
       "25%     2.003000e+03  1.500000e+01  1.000000e+00\n",
       "50%     2.008000e+03  2.000000e+01  2.000000e+00\n",
       "75%     2.012000e+03  2.400000e+01  5.000000e+00\n",
       "max     2.018000e+03  9.900000e+01  2.558600e+04"
      ]
     },
     "execution_count": 22,
     "metadata": {},
     "output_type": "execute_result"
    }
   ],
   "source": [
    "print(\"Columns:\\n\", mdata.dtypes)\n",
    "print(\"\\nShape: \", mdata.shape) #Size of the dataset\n",
    "mdata.describe() #Describing the data"
   ]
  },
  {
   "cell_type": "markdown",
   "metadata": {},
   "source": [
    "The dataset has 6744211 rows and 6 columns"
   ]
  },
  {
   "cell_type": "code",
   "execution_count": 14,
   "metadata": {},
   "outputs": [
    {
     "data": {
      "text/html": [
       "<div>\n",
       "<style scoped>\n",
       "    .dataframe tbody tr th:only-of-type {\n",
       "        vertical-align: middle;\n",
       "    }\n",
       "\n",
       "    .dataframe tbody tr th {\n",
       "        vertical-align: top;\n",
       "    }\n",
       "\n",
       "    .dataframe thead th {\n",
       "        text-align: right;\n",
       "    }\n",
       "</style>\n",
       "<table border=\"1\" class=\"dataframe\">\n",
       "  <thead>\n",
       "    <tr style=\"text-align: right;\">\n",
       "      <th></th>\n",
       "      <th>CountryName</th>\n",
       "      <th>MortalityYear</th>\n",
       "      <th>Gender</th>\n",
       "      <th>AgeGroupCode</th>\n",
       "      <th>ICD10</th>\n",
       "      <th>Deaths</th>\n",
       "    </tr>\n",
       "  </thead>\n",
       "  <tbody>\n",
       "    <tr>\n",
       "      <th>0</th>\n",
       "      <td>Brazil</td>\n",
       "      <td>2017</td>\n",
       "      <td>Male</td>\n",
       "      <td>21</td>\n",
       "      <td>I479</td>\n",
       "      <td>1</td>\n",
       "    </tr>\n",
       "    <tr>\n",
       "      <th>1</th>\n",
       "      <td>Brazil</td>\n",
       "      <td>2017</td>\n",
       "      <td>Male</td>\n",
       "      <td>21</td>\n",
       "      <td>C925</td>\n",
       "      <td>1</td>\n",
       "    </tr>\n",
       "    <tr>\n",
       "      <th>2</th>\n",
       "      <td>Brazil</td>\n",
       "      <td>2017</td>\n",
       "      <td>Male</td>\n",
       "      <td>21</td>\n",
       "      <td>I451</td>\n",
       "      <td>1</td>\n",
       "    </tr>\n",
       "    <tr>\n",
       "      <th>3</th>\n",
       "      <td>Brazil</td>\n",
       "      <td>2017</td>\n",
       "      <td>Male</td>\n",
       "      <td>21</td>\n",
       "      <td>D292</td>\n",
       "      <td>1</td>\n",
       "    </tr>\n",
       "    <tr>\n",
       "      <th>4</th>\n",
       "      <td>Brazil</td>\n",
       "      <td>2017</td>\n",
       "      <td>Male</td>\n",
       "      <td>21</td>\n",
       "      <td>L519</td>\n",
       "      <td>1</td>\n",
       "    </tr>\n",
       "  </tbody>\n",
       "</table>\n",
       "</div>"
      ],
      "text/plain": [
       "  CountryName  MortalityYear Gender  AgeGroupCode ICD10  Deaths\n",
       "0     Brazil            2017   Male            21  I479       1\n",
       "1     Brazil            2017   Male            21  C925       1\n",
       "2     Brazil            2017   Male            21  I451       1\n",
       "3     Brazil            2017   Male            21  D292       1\n",
       "4     Brazil            2017   Male            21  L519       1"
      ]
     },
     "execution_count": 14,
     "metadata": {},
     "output_type": "execute_result"
    }
   ],
   "source": [
    "mdata.head(5) #Taking a look at data"
   ]
  },
  {
   "cell_type": "markdown",
   "metadata": {},
   "source": [
    "2. Unique values in every column"
   ]
  },
  {
   "cell_type": "code",
   "execution_count": 23,
   "metadata": {},
   "outputs": [
    {
     "name": "stdout",
     "output_type": "stream",
     "text": [
      "Countries:  48\n",
      "\n",
      " ['Brazil ' 'Mexico' 'United States of America' 'Colombia' 'Argentina'\n",
      " 'Peru' 'Canada' 'Chile' 'Cuba' 'Guatemala' 'Paraguay' 'Panama' 'Uruguay'\n",
      " 'Puerto Rico' 'Saint Vincent and the Grenadines' 'Virgin Islands (US)'\n",
      " 'Antigua and Barbuda' 'Bermuda' 'Anguilla' 'Venezuela' 'Nicaragua'\n",
      " 'Montserrat' 'Saint Lucia' 'El Salvador' 'Ecuador' 'Costa Rica' 'Jamaica'\n",
      " 'Guyana' 'Guadeloupe' 'Martinique' 'Suriname' 'Bahamas' 'Belize'\n",
      " 'French Guiana' 'Grenada' 'Aruba' 'Dominica' 'SaintKittsandNevis'\n",
      " 'TurksandCaicosIslands' 'Dominican Republic' 'Honduras' 'Barbados'\n",
      " 'CaymanIslands' 'Trinidad and Tobago' 'Bolivia ' 'VirginIslands,British'\n",
      " 'Haiti' 'Curacao']\n",
      "\n",
      "Years:  24\n",
      "\n",
      " [2017 2016 2014 2018 2015 2013 2011 2010 2008 2012 2009 2004 2005 2003\n",
      " 2002 2007 2001 2006 1996 2000 1999 1998 1997 1995]\n",
      "\n",
      "Genders:  3\n",
      "\n",
      " ['Male' 'FeMale' 'Unknown']\n",
      "\n",
      "Age Groups:  33\n",
      "\n",
      " [21 17 16 18 19 22 20 15 24 23 14 13 25 12 26 27 11  5 28 10  6  7  8 29\n",
      "  9  2  3  4 99 32 30 31 33]\n",
      "\n",
      "Codes:  9790\n",
      "\n",
      " ['I479' 'C925' 'I451' ... 'O351' 'Q665' 'R431']\n",
      "\n",
      "Unique Death Counts:  5355\n",
      "\n",
      " [    1     2     3 ...  5086 18139  9809]\n",
      "------------------------------------------------------------------\n"
     ]
    }
   ],
   "source": [
    "print(\"Countries: \", mdata.CountryName.nunique())\n",
    "print(\"\\n\", mdata.CountryName.unique())\n",
    "print(\"\\nYears: \", mdata.MortalityYear.nunique())\n",
    "print(\"\\n\", mdata.MortalityYear.unique())\n",
    "print(\"\\nGenders: \", mdata.Gender.nunique())\n",
    "print(\"\\n\", mdata.Gender.unique())\n",
    "print(\"\\nAge Groups: \", mdata.AgeGroupCode.nunique())\n",
    "print(\"\\n\", mdata.AgeGroupCode.unique())\n",
    "print(\"\\nCodes: \", mdata.ICD10.nunique())\n",
    "print(\"\\n\", mdata.ICD10.unique())\n",
    "print(\"\\nUnique Death Counts: \", mdata.Deaths.nunique())\n",
    "print(\"\\n\", mdata.Deaths.unique())\n",
    "print(\"------------------------------------------------------------------\")"
   ]
  },
  {
   "cell_type": "markdown",
   "metadata": {},
   "source": [
    "3. Checking for null values"
   ]
  },
  {
   "cell_type": "code",
   "execution_count": 24,
   "metadata": {},
   "outputs": [
    {
     "data": {
      "text/plain": [
       "CountryName      0\n",
       "MortalityYear    0\n",
       "Gender           0\n",
       "AgeGroupCode     0\n",
       "ICD10            0\n",
       "Deaths           0\n",
       "dtype: int64"
      ]
     },
     "execution_count": 24,
     "metadata": {},
     "output_type": "execute_result"
    }
   ],
   "source": [
    "mdata.isnull().sum()"
   ]
  },
  {
   "cell_type": "markdown",
   "metadata": {},
   "source": [
    "There are no null values in any of the 6 columns"
   ]
  },
  {
   "cell_type": "markdown",
   "metadata": {},
   "source": [
    "#### Univariate analysis:"
   ]
  },
  {
   "cell_type": "markdown",
   "metadata": {},
   "source": [
    "1. \"MortalityYear\" column data distribution"
   ]
  },
  {
   "cell_type": "code",
   "execution_count": 17,
   "metadata": {},
   "outputs": [
    {
     "data": {
      "text/plain": [
       "<matplotlib.axes._subplots.AxesSubplot at 0x1264dd828>"
      ]
     },
     "execution_count": 17,
     "metadata": {},
     "output_type": "execute_result"
    },
    {
     "data": {
      "image/png": "[encoded data removed]",
      "text/plain": [
       "<Figure size 792x576 with 1 Axes>"
      ]
     },
     "metadata": {},
     "output_type": "display_data"
    }
   ],
   "source": [
    "sns.set(rc={'figure.figsize':(11,8)})\n",
    "sns.countplot(mdata.MortalityYear, color='lightcoral')"
   ]
  },
  {
   "cell_type": "markdown",
   "metadata": {},
   "source": [
    "The distribution is almost normal. We have very few values for 1995 and 2018."
   ]
  },
  {
   "cell_type": "markdown",
   "metadata": {},
   "source": [
    "2. \"AgeGroupCode\" column data distribution"
   ]
  },
  {
   "cell_type": "code",
   "execution_count": 18,
   "metadata": {},
   "outputs": [
    {
     "data": {
      "text/plain": [
       "<matplotlib.axes._subplots.AxesSubplot at 0x1267faa20>"
      ]
     },
     "execution_count": 18,
     "metadata": {},
     "output_type": "execute_result"
    },
    {
     "data": {
      "image/png": "[encoded data removed]",
      "text/plain": [
       "<Figure size 792x576 with 1 Axes>"
      ]
     },
     "metadata": {},
     "output_type": "display_data"
    }
   ],
   "source": [
    "sns.countplot(mdata.AgeGroupCode, color='c')"
   ]
  },
  {
   "cell_type": "markdown",
   "metadata": {},
   "source": [
    "Here, the distribution is a little skewed to the right"
   ]
  },
  {
   "cell_type": "markdown",
   "metadata": {},
   "source": [
    "3. \"Deaths\" column data distribution"
   ]
  },
  {
   "cell_type": "code",
   "execution_count": 19,
   "metadata": {},
   "outputs": [
    {
     "data": {
      "text/plain": [
       "<matplotlib.axes._subplots.AxesSubplot at 0x129efc438>"
      ]
     },
     "execution_count": 19,
     "metadata": {},
     "output_type": "execute_result"
    },
    {
     "data": {
      "image/png": "[encoded data removed]",
      "text/plain": [
       "<Figure size 792x576 with 1 Axes>"
      ]
     },
     "metadata": {},
     "output_type": "display_data"
    }
   ],
   "source": [
    "mdata.boxplot(column='Deaths')"
   ]
  },
  {
   "cell_type": "markdown",
   "metadata": {},
   "source": [
    "The death counts range from 1 to 25586 with mean value around 16"
   ]
  },
  {
   "cell_type": "markdown",
   "metadata": {},
   "source": [
    "4. \"Gender\" column data distribution"
   ]
  },
  {
   "cell_type": "code",
   "execution_count": 21,
   "metadata": {},
   "outputs": [
    {
     "data": {
      "text/plain": [
       "<matplotlib.axes._subplots.AxesSubplot at 0x1267865f8>"
      ]
     },
     "execution_count": 21,
     "metadata": {},
     "output_type": "execute_result"
    },
    {
     "data": {
      "image/png": "[encoded data removed]",
      "text/plain": [
       "<Figure size 792x576 with 1 Axes>"
      ]
     },
     "metadata": {},
     "output_type": "display_data"
    }
   ],
   "source": [
    "sns.countplot(mdata.Gender)"
   ]
  },
  {
   "cell_type": "markdown",
   "metadata": {},
   "source": [
    "There are 3636291 values for male, 3087219 for female and 20701 unknown values"
   ]
  }
 ],
 "metadata": {
  "kernelspec": {
   "display_name": "Python 3",
   "language": "python",
   "name": "python3"
  },
  "language_info": {
   "codemirror_mode": {
    "name": "ipython",
    "version": 3
   },
   "file_extension": ".py",
   "mimetype": "text/x-python",
   "name": "python",
   "nbconvert_exporter": "python",
   "pygments_lexer": "ipython3",
   "version": "3.7.4"
  }
 },
 "nbformat": 4,
 "nbformat_minor": 2
}
