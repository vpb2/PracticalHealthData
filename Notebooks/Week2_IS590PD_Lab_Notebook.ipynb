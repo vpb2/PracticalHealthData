{
 "cells": [
  {
   "cell_type": "markdown",
   "metadata": {},
   "source": [
    "## Analysis on acute lower respiratory infections"
   ]
  },
  {
   "cell_type": "markdown",
   "metadata": {},
   "source": [
    "Team: Runtime Terrors\n",
    "\n",
    "Members:    \n",
    "> Vinu Prasad Bhambore (vpb2)\n",
    "\n",
    "> Srijith Srinath (ssrina2)\n",
    "\n",
    "> Dhruman Jayesh Shah (djshah5)"
   ]
  },
  {
   "cell_type": "markdown",
   "metadata": {},
   "source": [
    "##### Notebook Update 2 - 02/21/2020"
   ]
  },
  {
   "cell_type": "markdown",
   "metadata": {},
   "source": [
    "Name of the dataset: PAHO Regional Mortality Dataset\n",
    "    \n",
    "Background: The PAHO Regional Mortality Database is an integrated database consisting of national datasets from Member States and is updated annually. The dataset includes data from 48 countries and territories.  The source of the national datasets varies by country. For some countries the national institution mandated to collect, integrate, and disseminate mortality data and information is the Ministry of Health, and for others it is the National Institute of Statistics. "
   ]
  },
  {
   "cell_type": "markdown",
   "metadata": {},
   "source": [
    "Source: WHO\n",
    "\n",
    "File Size: 221MB"
   ]
  },
  {
   "cell_type": "markdown",
   "metadata": {},
   "source": [
    "#### Importing the necessary packages"
   ]
  },
  {
   "cell_type": "code",
   "execution_count": 1,
   "metadata": {},
   "outputs": [],
   "source": [
    "import pandas as pd\n",
    "import numpy as np\n",
    "import matplotlib.pyplot as plt \n",
    "import seaborn as sns "
   ]
  },
  {
   "cell_type": "markdown",
   "metadata": {},
   "source": [
    "#### Loading the Mortality data:"
   ]
  },
  {
   "cell_type": "code",
   "execution_count": 2,
   "metadata": {},
   "outputs": [],
   "source": [
    "# read the dataset from git\n",
    "url = 'https://media.githubusercontent.com/media/srijith-srinath/PracticalHealthData/master/Data/MortalityData.csv?token=AE65ZK7J6K7MDLWM3SXOTQK6KBXKO'\n",
    "df = pd.read_csv(url)"
   ]
  },
  {
   "cell_type": "code",
   "execution_count": 3,
   "metadata": {},
   "outputs": [
    {
     "data": {
      "text/html": [
       "<div>\n",
       "<style scoped>\n",
       "    .dataframe tbody tr th:only-of-type {\n",
       "        vertical-align: middle;\n",
       "    }\n",
       "\n",
       "    .dataframe tbody tr th {\n",
       "        vertical-align: top;\n",
       "    }\n",
       "\n",
       "    .dataframe thead th {\n",
       "        text-align: right;\n",
       "    }\n",
       "</style>\n",
       "<table border=\"1\" class=\"dataframe\">\n",
       "  <thead>\n",
       "    <tr style=\"text-align: right;\">\n",
       "      <th></th>\n",
       "      <th>CountryName</th>\n",
       "      <th>MortalityYear</th>\n",
       "      <th>Gender</th>\n",
       "      <th>AgeGroupCode</th>\n",
       "      <th>ICD10</th>\n",
       "      <th>Deaths</th>\n",
       "    </tr>\n",
       "  </thead>\n",
       "  <tbody>\n",
       "    <tr>\n",
       "      <th>0</th>\n",
       "      <td>Brazil</td>\n",
       "      <td>2017</td>\n",
       "      <td>Male</td>\n",
       "      <td>21</td>\n",
       "      <td>I479</td>\n",
       "      <td>1</td>\n",
       "    </tr>\n",
       "    <tr>\n",
       "      <th>1</th>\n",
       "      <td>Brazil</td>\n",
       "      <td>2017</td>\n",
       "      <td>Male</td>\n",
       "      <td>21</td>\n",
       "      <td>C925</td>\n",
       "      <td>1</td>\n",
       "    </tr>\n",
       "    <tr>\n",
       "      <th>2</th>\n",
       "      <td>Brazil</td>\n",
       "      <td>2017</td>\n",
       "      <td>Male</td>\n",
       "      <td>21</td>\n",
       "      <td>I451</td>\n",
       "      <td>1</td>\n",
       "    </tr>\n",
       "    <tr>\n",
       "      <th>3</th>\n",
       "      <td>Brazil</td>\n",
       "      <td>2017</td>\n",
       "      <td>Male</td>\n",
       "      <td>21</td>\n",
       "      <td>D292</td>\n",
       "      <td>1</td>\n",
       "    </tr>\n",
       "    <tr>\n",
       "      <th>4</th>\n",
       "      <td>Brazil</td>\n",
       "      <td>2017</td>\n",
       "      <td>Male</td>\n",
       "      <td>21</td>\n",
       "      <td>L519</td>\n",
       "      <td>1</td>\n",
       "    </tr>\n",
       "  </tbody>\n",
       "</table>\n",
       "</div>"
      ],
      "text/plain": [
       "  CountryName  MortalityYear Gender  AgeGroupCode ICD10  Deaths\n",
       "0     Brazil            2017   Male            21  I479       1\n",
       "1     Brazil            2017   Male            21  C925       1\n",
       "2     Brazil            2017   Male            21  I451       1\n",
       "3     Brazil            2017   Male            21  D292       1\n",
       "4     Brazil            2017   Male            21  L519       1"
      ]
     },
     "execution_count": 3,
     "metadata": {},
     "output_type": "execute_result"
    }
   ],
   "source": [
    "df.head()"
   ]
  },
  {
   "cell_type": "markdown",
   "metadata": {},
   "source": [
    "The following are the codes that are of our interest. The 2 main lower respiratory infections that we will concentrate on are as follows -\n",
    "\n",
    "1. Bronchitis\n",
    "2. Tuberculosis\n",
    "\n",
    "The codes for each of them are as follows -\n",
    "\n",
    "**Bronchitis**<br>\n",
    "J20  Acute bronchitis<br>\n",
    "J40  Bronchitis, not specified as acute or chronic<br>\n",
    "J41  Simple and mucopurulent chronic bronchitis<br>\n",
    "J42  Unspecified chronic bronchitis<br>\n",
    "\n",
    "**Tuberculosis**<br>\n",
    "A15  Respiratory tuberculosis<br>\n",
    "A17  Tuberculosis of nervous system<br>\n",
    "A18  Tuberculosis of other organs<br>\n",
    "A19  Miliary tuberculosis<br>"
   ]
  },
  {
   "cell_type": "code",
   "execution_count": 4,
   "metadata": {},
   "outputs": [
    {
     "data": {
      "text/plain": [
       "CountryName      object\n",
       "MortalityYear     int64\n",
       "Gender           object\n",
       "AgeGroupCode      int64\n",
       "ICD10            object\n",
       "Deaths            int64\n",
       "dtype: object"
      ]
     },
     "execution_count": 4,
     "metadata": {},
     "output_type": "execute_result"
    }
   ],
   "source": [
    "df.dtypes"
   ]
  },
  {
   "cell_type": "code",
   "execution_count": 5,
   "metadata": {},
   "outputs": [
    {
     "data": {
      "text/html": [
       "<div>\n",
       "<style scoped>\n",
       "    .dataframe tbody tr th:only-of-type {\n",
       "        vertical-align: middle;\n",
       "    }\n",
       "\n",
       "    .dataframe tbody tr th {\n",
       "        vertical-align: top;\n",
       "    }\n",
       "\n",
       "    .dataframe thead th {\n",
       "        text-align: right;\n",
       "    }\n",
       "</style>\n",
       "<table border=\"1\" class=\"dataframe\">\n",
       "  <thead>\n",
       "    <tr style=\"text-align: right;\">\n",
       "      <th></th>\n",
       "      <th>CountryName</th>\n",
       "      <th>MortalityYear</th>\n",
       "      <th>Gender</th>\n",
       "      <th>AgeGroupCode</th>\n",
       "      <th>ICD10</th>\n",
       "      <th>Deaths</th>\n",
       "    </tr>\n",
       "  </thead>\n",
       "  <tbody>\n",
       "    <tr>\n",
       "      <th>0</th>\n",
       "      <td>Brazil</td>\n",
       "      <td>2017</td>\n",
       "      <td>Male</td>\n",
       "      <td>21</td>\n",
       "      <td>J410</td>\n",
       "      <td>1</td>\n",
       "    </tr>\n",
       "    <tr>\n",
       "      <th>1</th>\n",
       "      <td>Brazil</td>\n",
       "      <td>2017</td>\n",
       "      <td>Male</td>\n",
       "      <td>17</td>\n",
       "      <td>J40</td>\n",
       "      <td>1</td>\n",
       "    </tr>\n",
       "    <tr>\n",
       "      <th>2</th>\n",
       "      <td>Brazil</td>\n",
       "      <td>2017</td>\n",
       "      <td>Male</td>\n",
       "      <td>16</td>\n",
       "      <td>J42</td>\n",
       "      <td>1</td>\n",
       "    </tr>\n",
       "    <tr>\n",
       "      <th>3</th>\n",
       "      <td>Brazil</td>\n",
       "      <td>2017</td>\n",
       "      <td>Male</td>\n",
       "      <td>22</td>\n",
       "      <td>J418</td>\n",
       "      <td>1</td>\n",
       "    </tr>\n",
       "    <tr>\n",
       "      <th>4</th>\n",
       "      <td>Brazil</td>\n",
       "      <td>2017</td>\n",
       "      <td>Male</td>\n",
       "      <td>20</td>\n",
       "      <td>J411</td>\n",
       "      <td>1</td>\n",
       "    </tr>\n",
       "  </tbody>\n",
       "</table>\n",
       "</div>"
      ],
      "text/plain": [
       "  CountryName  MortalityYear Gender  AgeGroupCode ICD10  Deaths\n",
       "0     Brazil            2017   Male            21  J410       1\n",
       "1     Brazil            2017   Male            17  J40        1\n",
       "2     Brazil            2017   Male            16  J42        1\n",
       "3     Brazil            2017   Male            22  J418       1\n",
       "4     Brazil            2017   Male            20  J411       1"
      ]
     },
     "execution_count": 5,
     "metadata": {},
     "output_type": "execute_result"
    }
   ],
   "source": [
    "br_df = df[df['ICD10'].str.match(r'(^J20[0-9]*)|(^J40[0-9]*)|(^J41[0-9]*)|(^J42[0-9]*)')]\n",
    "br_df.reset_index(inplace=True, drop=True)\n",
    "br_df.head()"
   ]
  },
  {
   "cell_type": "markdown",
   "metadata": {},
   "source": [
    "Now that we have a dataset with only the Bronchitis information. We will break the dataset into the four different sets of Bronchitis and then analyze this data."
   ]
  },
  {
   "cell_type": "markdown",
   "metadata": {},
   "source": [
    "**Bronchitis Definition**"
   ]
  },
  {
   "cell_type": "markdown",
   "metadata": {},
   "source": [
    "Bronchitis is an inflammation of the bronchial tubes, the airways that carry air to your lungs. It causes a cough that often brings up mucus, as well as shortness of breath, wheezing, and chest tightness. There are two main types of bronchitis: acute and chronic. The same viruses that cause colds and the flu often cause acute bronchitis."
   ]
  },
  {
   "cell_type": "markdown",
   "metadata": {},
   "source": [
    "**J20  Acute Bronchitis**"
   ]
  },
  {
   "cell_type": "code",
   "execution_count": 6,
   "metadata": {},
   "outputs": [
    {
     "data": {
      "text/html": [
       "<div>\n",
       "<style scoped>\n",
       "    .dataframe tbody tr th:only-of-type {\n",
       "        vertical-align: middle;\n",
       "    }\n",
       "\n",
       "    .dataframe tbody tr th {\n",
       "        vertical-align: top;\n",
       "    }\n",
       "\n",
       "    .dataframe thead th {\n",
       "        text-align: right;\n",
       "    }\n",
       "</style>\n",
       "<table border=\"1\" class=\"dataframe\">\n",
       "  <thead>\n",
       "    <tr style=\"text-align: right;\">\n",
       "      <th></th>\n",
       "      <th>CountryName</th>\n",
       "      <th>MortalityYear</th>\n",
       "      <th>Gender</th>\n",
       "      <th>AgeGroupCode</th>\n",
       "      <th>ICD10</th>\n",
       "      <th>Deaths</th>\n",
       "    </tr>\n",
       "  </thead>\n",
       "  <tbody>\n",
       "    <tr>\n",
       "      <th>10</th>\n",
       "      <td>Brazil</td>\n",
       "      <td>2017</td>\n",
       "      <td>Male</td>\n",
       "      <td>5</td>\n",
       "      <td>J205</td>\n",
       "      <td>1</td>\n",
       "    </tr>\n",
       "    <tr>\n",
       "      <th>11</th>\n",
       "      <td>Brazil</td>\n",
       "      <td>2017</td>\n",
       "      <td>Male</td>\n",
       "      <td>5</td>\n",
       "      <td>J206</td>\n",
       "      <td>1</td>\n",
       "    </tr>\n",
       "    <tr>\n",
       "      <th>15</th>\n",
       "      <td>Brazil</td>\n",
       "      <td>2017</td>\n",
       "      <td>Male</td>\n",
       "      <td>6</td>\n",
       "      <td>J209</td>\n",
       "      <td>1</td>\n",
       "    </tr>\n",
       "    <tr>\n",
       "      <th>16</th>\n",
       "      <td>Brazil</td>\n",
       "      <td>2017</td>\n",
       "      <td>Male</td>\n",
       "      <td>8</td>\n",
       "      <td>J209</td>\n",
       "      <td>1</td>\n",
       "    </tr>\n",
       "    <tr>\n",
       "      <th>17</th>\n",
       "      <td>Brazil</td>\n",
       "      <td>2017</td>\n",
       "      <td>Male</td>\n",
       "      <td>4</td>\n",
       "      <td>J208</td>\n",
       "      <td>1</td>\n",
       "    </tr>\n",
       "  </tbody>\n",
       "</table>\n",
       "</div>"
      ],
      "text/plain": [
       "   CountryName  MortalityYear Gender  AgeGroupCode ICD10  Deaths\n",
       "10     Brazil            2017   Male             5  J205       1\n",
       "11     Brazil            2017   Male             5  J206       1\n",
       "15     Brazil            2017   Male             6  J209       1\n",
       "16     Brazil            2017   Male             8  J209       1\n",
       "17     Brazil            2017   Male             4  J208       1"
      ]
     },
     "execution_count": 6,
     "metadata": {},
     "output_type": "execute_result"
    }
   ],
   "source": [
    "br_df_j20 = br_df[br_df['ICD10'].str.match(r'(^J20[0-9]*)')]\n",
    "br_df_j20.head()"
   ]
  },
  {
   "cell_type": "code",
   "execution_count": 7,
   "metadata": {},
   "outputs": [
    {
     "data": {
      "text/plain": [
       "array(['J205', 'J206', 'J209', 'J208', 'J201', 'J200', 'J202', 'J204',\n",
       "       'J203', 'J207'], dtype=object)"
      ]
     },
     "execution_count": 7,
     "metadata": {},
     "output_type": "execute_result"
    }
   ],
   "source": [
    "br_df_j20['ICD10'].unique()"
   ]
  },
  {
   "cell_type": "markdown",
   "metadata": {},
   "source": [
    "As you can see there are 10 different types of Acute Bronchitis, let's take a look at the distribution and then decide how to proceed about it. <br>\n",
    "The following at the 10 different types of Acute Bronchitis -\n",
    "\n",
    "J20.0 Acute bronchitis due to Mycoplasma pneumoniae<br>\n",
    "J20.1 Acute bronchitis due to Hemophilus influenzae<br>\n",
    "J20.2 Acute bronchitis due to streptococcus<br>\n",
    "J20.3 Acute bronchitis due to coxsackievirus<br>\n",
    "J20.4 Acute bronchitis due to parainfluenza virus<br>\n",
    "J20.5 Acute bronchitis due to respiratory syncytial virus<br>\n",
    "J20.6 Acute bronchitis due to rhinovirus<br>\n",
    "J20.7 Acute bronchitis due to echovirus<br>\n",
    "J20.8 Acute bronchitis due to other specified organisms<br>\n",
    "J20.9 Acute bronchitis, unspecified<br>"
   ]
  },
  {
   "cell_type": "code",
   "execution_count": 8,
   "metadata": {},
   "outputs": [
    {
     "data": {
      "image/png": "[encoded data removed]",
      "text/plain": [
       "<Figure size 864x576 with 1 Axes>"
      ]
     },
     "metadata": {
      "needs_background": "light"
     },
     "output_type": "display_data"
    }
   ],
   "source": [
    "br_df_j20_groups = br_df_j20.groupby('ICD10')['ICD10'].count()\n",
    "plt.rcParams[\"figure.figsize\"] = (12,8)\n",
    "plt.barh(br_df_j20_groups.index.values, br_df_j20_groups)\n",
    "plt.ylabel(\"The ICD for Acute Bronchitis\", fontsize = 14)\n",
    "plt.xlabel(\"Count of occurences\", fontsize = 14)\n",
    "plt.title(\"Number of occurences of each of Acute Bronchitis\", fontsize = 16)\n",
    "plt.show()"
   ]
  },
  {
   "cell_type": "markdown",
   "metadata": {},
   "source": [
    "From the above distribution we can see that there is value for us to combine the data as supposed to looking at each of these codes seperately.\n",
    "Before we proceed with any analysis, let us try to see how the results would look if we were to drop the ICD column and then combine all the ages to one entry for the country given a particular year and gender. We will compare this example by looking at just one ICD code."
   ]
  },
  {
   "cell_type": "code",
   "execution_count": 9,
   "metadata": {},
   "outputs": [],
   "source": [
    "test_br_df_j20 = br_df_j20.drop(['ICD10','AgeGroupCode'], axis=1)\n",
    "series_test_data = test_br_df_j20.groupby(['CountryName', 'MortalityYear', 'Gender'])['Deaths'].sum()"
   ]
  },
  {
   "cell_type": "code",
   "execution_count": 10,
   "metadata": {},
   "outputs": [
    {
     "data": {
      "text/plain": [
       "Index(['MortalityYear', 'Gender', 'Deaths'], dtype='object')"
      ]
     },
     "execution_count": 10,
     "metadata": {},
     "output_type": "execute_result"
    }
   ],
   "source": [
    "argentina_data = pd.DataFrame(series_test_data['Argentina'])\n",
    "argentina_data.reset_index(inplace=True)\n",
    "argentina_data.columns"
   ]
  },
  {
   "cell_type": "code",
   "execution_count": 11,
   "metadata": {},
   "outputs": [
    {
     "data": {
      "image/png": "[encoded data removed]",
      "text/plain": [
       "<Figure size 1440x864 with 1 Axes>"
      ]
     },
     "metadata": {},
     "output_type": "display_data"
    }
   ],
   "source": [
    "sns.set(font_scale = 1.3)\n",
    "ex_pt = sns.catplot(x=\"MortalityYear\", y=\"Deaths\", hue=\"Gender\", data=argentina_data,\n",
    "                height=6, kind=\"bar\", palette=\"muted\")\n",
    "ex_pt.fig.set_figwidth(20)\n",
    "ex_pt.fig.set_figheight(12)\n",
    "plt.ylabel(\"Number of Deaths\", fontsize = 19)\n",
    "plt.xlabel(\"Year\", fontsize = 19)\n",
    "plt.title(\"Distribution of combined ICD10 for Acute Bronchitis for Argentina\", fontsize = 24)\n",
    "plt.show(ex_pt)"
   ]
  },
  {
   "cell_type": "code",
   "execution_count": 12,
   "metadata": {},
   "outputs": [],
   "source": [
    "smallertest_br_df_j20 = br_df_j20.drop(['AgeGroupCode'], axis=1)\n",
    "smallertest_br_df_j20 = smallertest_br_df_j20[smallertest_br_df_j20['ICD10']=='J208']\n",
    "smallerseries_test_data = smallertest_br_df_j20.groupby(['CountryName', 'MortalityYear', 'Gender'])['Deaths'].sum()"
   ]
  },
  {
   "cell_type": "code",
   "execution_count": 13,
   "metadata": {},
   "outputs": [
    {
     "data": {
      "text/plain": [
       "Index(['MortalityYear', 'Gender', 'Deaths'], dtype='object')"
      ]
     },
     "execution_count": 13,
     "metadata": {},
     "output_type": "execute_result"
    }
   ],
   "source": [
    "smaller_argentina_data = pd.DataFrame(smallerseries_test_data ['Argentina'])\n",
    "smaller_argentina_data.reset_index(inplace=True)\n",
    "smaller_argentina_data.columns"
   ]
  },
  {
   "cell_type": "code",
   "execution_count": 14,
   "metadata": {},
   "outputs": [
    {
     "data": {
      "image/png": "[encoded data removed]",
      "text/plain": [
       "<Figure size 1440x864 with 1 Axes>"
      ]
     },
     "metadata": {},
     "output_type": "display_data"
    }
   ],
   "source": [
    "sns.set(font_scale = 1.3)\n",
    "ex_pt = sns.catplot(x=\"MortalityYear\", y=\"Deaths\", hue=\"Gender\", data=smaller_argentina_data,\n",
    "                height=6, kind=\"bar\", palette=\"muted\")\n",
    "ex_pt.fig.set_figwidth(20)\n",
    "ex_pt.fig.set_figheight(12)\n",
    "plt.ylabel(\"Number of Deaths\", fontsize = 19)\n",
    "plt.xlabel(\"Year\", fontsize = 19)\n",
    "plt.title(\"Distribution of J208 for Argentina\", fontsize = 24)\n",
    "plt.show(ex_pt)"
   ]
  },
  {
   "cell_type": "markdown",
   "metadata": {},
   "source": [
    "As you can see that from the above two graphs, you see that if we were to talk a look at the smaller set of the dataset, then we might lose out on some of the datapoints. It makes sense from the above to look at all the sub codes in Acute Bronchitis and view it as a large chunk. The only level of abstraction we will lose is that we will not be able to point out the exact Acute Bronchitis."
   ]
  },
  {
   "cell_type": "markdown",
   "metadata": {},
   "source": [
    "**J40  Bronchitis, not specified as acute or chronic**"
   ]
  },
  {
   "cell_type": "code",
   "execution_count": 15,
   "metadata": {},
   "outputs": [
    {
     "data": {
      "text/html": [
       "<div>\n",
       "<style scoped>\n",
       "    .dataframe tbody tr th:only-of-type {\n",
       "        vertical-align: middle;\n",
       "    }\n",
       "\n",
       "    .dataframe tbody tr th {\n",
       "        vertical-align: top;\n",
       "    }\n",
       "\n",
       "    .dataframe thead th {\n",
       "        text-align: right;\n",
       "    }\n",
       "</style>\n",
       "<table border=\"1\" class=\"dataframe\">\n",
       "  <thead>\n",
       "    <tr style=\"text-align: right;\">\n",
       "      <th></th>\n",
       "      <th>CountryName</th>\n",
       "      <th>MortalityYear</th>\n",
       "      <th>Gender</th>\n",
       "      <th>AgeGroupCode</th>\n",
       "      <th>ICD10</th>\n",
       "      <th>Deaths</th>\n",
       "    </tr>\n",
       "  </thead>\n",
       "  <tbody>\n",
       "    <tr>\n",
       "      <th>1</th>\n",
       "      <td>Brazil</td>\n",
       "      <td>2017</td>\n",
       "      <td>Male</td>\n",
       "      <td>17</td>\n",
       "      <td>J40</td>\n",
       "      <td>1</td>\n",
       "    </tr>\n",
       "    <tr>\n",
       "      <th>8</th>\n",
       "      <td>Brazil</td>\n",
       "      <td>2017</td>\n",
       "      <td>Male</td>\n",
       "      <td>12</td>\n",
       "      <td>J40</td>\n",
       "      <td>1</td>\n",
       "    </tr>\n",
       "    <tr>\n",
       "      <th>28</th>\n",
       "      <td>Mexico</td>\n",
       "      <td>2017</td>\n",
       "      <td>Male</td>\n",
       "      <td>13</td>\n",
       "      <td>J40</td>\n",
       "      <td>1</td>\n",
       "    </tr>\n",
       "    <tr>\n",
       "      <th>32</th>\n",
       "      <td>Mexico</td>\n",
       "      <td>2017</td>\n",
       "      <td>Male</td>\n",
       "      <td>18</td>\n",
       "      <td>J40</td>\n",
       "      <td>1</td>\n",
       "    </tr>\n",
       "    <tr>\n",
       "      <th>33</th>\n",
       "      <td>Mexico</td>\n",
       "      <td>2017</td>\n",
       "      <td>Male</td>\n",
       "      <td>17</td>\n",
       "      <td>J40</td>\n",
       "      <td>1</td>\n",
       "    </tr>\n",
       "  </tbody>\n",
       "</table>\n",
       "</div>"
      ],
      "text/plain": [
       "   CountryName  MortalityYear Gender  AgeGroupCode ICD10  Deaths\n",
       "1      Brazil            2017   Male            17  J40        1\n",
       "8      Brazil            2017   Male            12  J40        1\n",
       "28      Mexico           2017   Male            13  J40        1\n",
       "32      Mexico           2017   Male            18  J40        1\n",
       "33      Mexico           2017   Male            17  J40        1"
      ]
     },
     "execution_count": 15,
     "metadata": {},
     "output_type": "execute_result"
    }
   ],
   "source": [
    "br_df_j40 = br_df[br_df['ICD10'].str.match(r'(^J40[0-9]*)')]\n",
    "br_df_j40.head()"
   ]
  },
  {
   "cell_type": "code",
   "execution_count": 16,
   "metadata": {},
   "outputs": [
    {
     "data": {
      "text/plain": [
       "array(['J40 '], dtype=object)"
      ]
     },
     "execution_count": 16,
     "metadata": {},
     "output_type": "execute_result"
    }
   ],
   "source": [
    "br_df_j40['ICD10'].unique()"
   ]
  },
  {
   "cell_type": "markdown",
   "metadata": {},
   "source": [
    "As you can see with J40 Bronchitis, not specified as acute or chronic there are no sub codes. We will keep the J40 as is. The question of doing the above exercise doesn't make sense."
   ]
  },
  {
   "cell_type": "markdown",
   "metadata": {},
   "source": [
    "**J41  Simple and mucopurulent chronic bronchitis**"
   ]
  },
  {
   "cell_type": "code",
   "execution_count": 17,
   "metadata": {},
   "outputs": [
    {
     "data": {
      "text/html": [
       "<div>\n",
       "<style scoped>\n",
       "    .dataframe tbody tr th:only-of-type {\n",
       "        vertical-align: middle;\n",
       "    }\n",
       "\n",
       "    .dataframe tbody tr th {\n",
       "        vertical-align: top;\n",
       "    }\n",
       "\n",
       "    .dataframe thead th {\n",
       "        text-align: right;\n",
       "    }\n",
       "</style>\n",
       "<table border=\"1\" class=\"dataframe\">\n",
       "  <thead>\n",
       "    <tr style=\"text-align: right;\">\n",
       "      <th></th>\n",
       "      <th>CountryName</th>\n",
       "      <th>MortalityYear</th>\n",
       "      <th>Gender</th>\n",
       "      <th>AgeGroupCode</th>\n",
       "      <th>ICD10</th>\n",
       "      <th>Deaths</th>\n",
       "    </tr>\n",
       "  </thead>\n",
       "  <tbody>\n",
       "    <tr>\n",
       "      <th>0</th>\n",
       "      <td>Brazil</td>\n",
       "      <td>2017</td>\n",
       "      <td>Male</td>\n",
       "      <td>21</td>\n",
       "      <td>J410</td>\n",
       "      <td>1</td>\n",
       "    </tr>\n",
       "    <tr>\n",
       "      <th>3</th>\n",
       "      <td>Brazil</td>\n",
       "      <td>2017</td>\n",
       "      <td>Male</td>\n",
       "      <td>22</td>\n",
       "      <td>J418</td>\n",
       "      <td>1</td>\n",
       "    </tr>\n",
       "    <tr>\n",
       "      <th>4</th>\n",
       "      <td>Brazil</td>\n",
       "      <td>2017</td>\n",
       "      <td>Male</td>\n",
       "      <td>20</td>\n",
       "      <td>J411</td>\n",
       "      <td>1</td>\n",
       "    </tr>\n",
       "    <tr>\n",
       "      <th>6</th>\n",
       "      <td>Brazil</td>\n",
       "      <td>2017</td>\n",
       "      <td>Male</td>\n",
       "      <td>23</td>\n",
       "      <td>J411</td>\n",
       "      <td>1</td>\n",
       "    </tr>\n",
       "    <tr>\n",
       "      <th>9</th>\n",
       "      <td>Brazil</td>\n",
       "      <td>2017</td>\n",
       "      <td>Male</td>\n",
       "      <td>26</td>\n",
       "      <td>J410</td>\n",
       "      <td>1</td>\n",
       "    </tr>\n",
       "  </tbody>\n",
       "</table>\n",
       "</div>"
      ],
      "text/plain": [
       "  CountryName  MortalityYear Gender  AgeGroupCode ICD10  Deaths\n",
       "0     Brazil            2017   Male            21  J410       1\n",
       "3     Brazil            2017   Male            22  J418       1\n",
       "4     Brazil            2017   Male            20  J411       1\n",
       "6     Brazil            2017   Male            23  J411       1\n",
       "9     Brazil            2017   Male            26  J410       1"
      ]
     },
     "execution_count": 17,
     "metadata": {},
     "output_type": "execute_result"
    }
   ],
   "source": [
    "br_df_j41 = br_df[br_df['ICD10'].str.match(r'(^J41[0-9]*)')]\n",
    "br_df_j41.head()"
   ]
  },
  {
   "cell_type": "code",
   "execution_count": 18,
   "metadata": {},
   "outputs": [
    {
     "data": {
      "text/plain": [
       "array(['J410', 'J418', 'J411'], dtype=object)"
      ]
     },
     "execution_count": 18,
     "metadata": {},
     "output_type": "execute_result"
    }
   ],
   "source": [
    "br_df_j41['ICD10'].unique()"
   ]
  },
  {
   "cell_type": "markdown",
   "metadata": {},
   "source": [
    "As you can see there are 3 different types of Simple and mucopurulent chronic bronchitis, let's take a look at the distribution and then decide how to proceed about it.\n",
    "The following at the 3 different types of Simple and mucopurulent chronic bronchitis -\n",
    "\n",
    "J41.0 Simple chronic bronchitis<br>\n",
    "J41.1 Mucopurulent chronic bronchitis<br>\n",
    "J41.8 Mixed simple and mucopurulent chronic bronchitis<br>"
   ]
  },
  {
   "cell_type": "code",
   "execution_count": 19,
   "metadata": {},
   "outputs": [
    {
     "data": {
      "image/png": "[encoded data removed]",
      "text/plain": [
       "<Figure size 864x576 with 1 Axes>"
      ]
     },
     "metadata": {},
     "output_type": "display_data"
    }
   ],
   "source": [
    "br_df_j41_groups = br_df_j41.groupby('ICD10')['ICD10'].count()\n",
    "plt.rcParams[\"figure.figsize\"] = (12,8)\n",
    "plt.barh(br_df_j41_groups.index.values, br_df_j41_groups)\n",
    "plt.ylabel(\"The ICD for Acute Bronchitis\", fontsize = 14)\n",
    "plt.xlabel(\"Count of occurences\", fontsize = 14)\n",
    "plt.title(\"Number of occurences of each of Acute Bronchitis\", fontsize = 16)\n",
    "plt.show()"
   ]
  },
  {
   "cell_type": "markdown",
   "metadata": {},
   "source": [
    "Even the distribution has enough instances in the 3 different categories. One of the sub code is a mix of the other two subcodes. From a purely analytical point of view, it doesnt make sense to look at them at 3 different sub categories. Just like how we combined for Acute Bronchitis."
   ]
  },
  {
   "cell_type": "markdown",
   "metadata": {},
   "source": [
    "**J42  Unspecified chronic bronchitis**"
   ]
  },
  {
   "cell_type": "code",
   "execution_count": 20,
   "metadata": {},
   "outputs": [
    {
     "data": {
      "text/html": [
       "<div>\n",
       "<style scoped>\n",
       "    .dataframe tbody tr th:only-of-type {\n",
       "        vertical-align: middle;\n",
       "    }\n",
       "\n",
       "    .dataframe tbody tr th {\n",
       "        vertical-align: top;\n",
       "    }\n",
       "\n",
       "    .dataframe thead th {\n",
       "        text-align: right;\n",
       "    }\n",
       "</style>\n",
       "<table border=\"1\" class=\"dataframe\">\n",
       "  <thead>\n",
       "    <tr style=\"text-align: right;\">\n",
       "      <th></th>\n",
       "      <th>CountryName</th>\n",
       "      <th>MortalityYear</th>\n",
       "      <th>Gender</th>\n",
       "      <th>AgeGroupCode</th>\n",
       "      <th>ICD10</th>\n",
       "      <th>Deaths</th>\n",
       "    </tr>\n",
       "  </thead>\n",
       "  <tbody>\n",
       "    <tr>\n",
       "      <th>2</th>\n",
       "      <td>Brazil</td>\n",
       "      <td>2017</td>\n",
       "      <td>Male</td>\n",
       "      <td>16</td>\n",
       "      <td>J42</td>\n",
       "      <td>1</td>\n",
       "    </tr>\n",
       "    <tr>\n",
       "      <th>5</th>\n",
       "      <td>Brazil</td>\n",
       "      <td>2017</td>\n",
       "      <td>Male</td>\n",
       "      <td>15</td>\n",
       "      <td>J42</td>\n",
       "      <td>1</td>\n",
       "    </tr>\n",
       "    <tr>\n",
       "      <th>7</th>\n",
       "      <td>Brazil</td>\n",
       "      <td>2017</td>\n",
       "      <td>Male</td>\n",
       "      <td>13</td>\n",
       "      <td>J42</td>\n",
       "      <td>1</td>\n",
       "    </tr>\n",
       "    <tr>\n",
       "      <th>19</th>\n",
       "      <td>Mexico</td>\n",
       "      <td>2017</td>\n",
       "      <td>Male</td>\n",
       "      <td>7</td>\n",
       "      <td>J42</td>\n",
       "      <td>1</td>\n",
       "    </tr>\n",
       "    <tr>\n",
       "      <th>20</th>\n",
       "      <td>Mexico</td>\n",
       "      <td>2017</td>\n",
       "      <td>Male</td>\n",
       "      <td>10</td>\n",
       "      <td>J42</td>\n",
       "      <td>1</td>\n",
       "    </tr>\n",
       "  </tbody>\n",
       "</table>\n",
       "</div>"
      ],
      "text/plain": [
       "   CountryName  MortalityYear Gender  AgeGroupCode ICD10  Deaths\n",
       "2      Brazil            2017   Male            16  J42        1\n",
       "5      Brazil            2017   Male            15  J42        1\n",
       "7      Brazil            2017   Male            13  J42        1\n",
       "19      Mexico           2017   Male             7  J42        1\n",
       "20      Mexico           2017   Male            10  J42        1"
      ]
     },
     "execution_count": 20,
     "metadata": {},
     "output_type": "execute_result"
    }
   ],
   "source": [
    "br_df_j42 = br_df[br_df['ICD10'].str.match(r'(^J42[0-9]*)')]\n",
    "br_df_j42.head()"
   ]
  },
  {
   "cell_type": "code",
   "execution_count": 21,
   "metadata": {},
   "outputs": [
    {
     "data": {
      "text/plain": [
       "array(['J42 '], dtype=object)"
      ]
     },
     "execution_count": 21,
     "metadata": {},
     "output_type": "execute_result"
    }
   ],
   "source": [
    "br_df_j42['ICD10'].unique()"
   ]
  },
  {
   "cell_type": "markdown",
   "metadata": {},
   "source": [
    "As you can see with J42 Unspecified chronic bronchitis has a single code. We will keep the J42 as is. The question of doing the above exercise doesn't make sense."
   ]
  },
  {
   "cell_type": "markdown",
   "metadata": {},
   "source": [
    "From the analysis we can conclude that we do not want to split the ICD10 codes to sub codes for the various types of Bronchitis. Instead of going through the entire ordeal of the exercise as above we will consider only the higher level of ICD10 codes for Tuberculosis Data as well."
   ]
  }
 ],
 "metadata": {
  "kernelspec": {
   "display_name": "Python 3",
   "language": "python",
   "name": "python3"
  },
  "language_info": {
   "codemirror_mode": {
    "name": "ipython",
    "version": 3
   },
   "file_extension": ".py",
   "mimetype": "text/x-python",
   "name": "python",
   "nbconvert_exporter": "python",
   "pygments_lexer": "ipython3",
   "version": "3.7.4"
  }
 },
 "nbformat": 4,
 "nbformat_minor": 2
}
